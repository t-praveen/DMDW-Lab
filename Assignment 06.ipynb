{
  "nbformat": 4,
  "nbformat_minor": 0,
  "metadata": {
    "kernelspec": {
      "display_name": "Python 3",
      "language": "python",
      "name": "python3"
    },
    "language_info": {
      "codemirror_mode": {
        "name": "ipython",
        "version": 3
      },
      "file_extension": ".py",
      "mimetype": "text/x-python",
      "name": "python",
      "nbconvert_exporter": "python",
      "pygments_lexer": "ipython3",
      "version": "3.7.4"
    },
    "colab": {
      "name": "Untitled.ipynb",
      "provenance": [],
      "collapsed_sections": []
    }
  },
  "cells": [
    {
      "cell_type": "markdown",
      "metadata": {
        "id": "D5U_sie8vAwt"
      },
      "source": [
        "# <u><center>Statistical Measures"
      ]
    },
    {
      "cell_type": "markdown",
      "metadata": {
        "id": "ibbM0sehvAww"
      },
      "source": [
        "# Computation of Mean, Median and Mode Withhout using Libraries"
      ]
    },
    {
      "cell_type": "markdown",
      "metadata": {
        "id": "w5EmqnBBvAwx"
      },
      "source": [
        "### Data"
      ]
    },
    {
      "cell_type": "code",
      "metadata": {
        "id": "nq2rsrdyvAwy"
      },
      "source": [
        "# Let us take this as our data\n",
        "X = [55,90,58,99,86,65,87,88,111,86,103,87,94,78,77,85,86]\n",
        "X=[float(i) for i in X]"
      ],
      "execution_count": 13,
      "outputs": []
    },
    {
      "cell_type": "markdown",
      "metadata": {
        "id": "cSQb-YnmvAw1"
      },
      "source": [
        "<b>Mean"
      ]
    },
    {
      "cell_type": "code",
      "metadata": {
        "id": "17tFc_3WvAw2",
        "outputId": "b7288e9d-7dc9-4729-a833-a3cb98c7b5ea",
        "colab": {
          "base_uri": "https://localhost:8080/"
        }
      },
      "source": [
        "n = len(X) \n",
        "sum_of_X = sum(X) \n",
        "mean = sum_of_X / n \n",
        "  \n",
        "print(\"Mean is: \" + str(mean)) "
      ],
      "execution_count": 2,
      "outputs": [
        {
          "output_type": "stream",
          "text": [
            "Mean is: 84.41176470588235\n"
          ],
          "name": "stdout"
        }
      ]
    },
    {
      "cell_type": "markdown",
      "metadata": {
        "id": "4mhFSYJSvAw5"
      },
      "source": [
        "<b>Median"
      ]
    },
    {
      "cell_type": "code",
      "metadata": {
        "id": "QKkUK1GEvAw6",
        "outputId": "40e6a886-1058-40bf-972b-20d467ad6879",
        "colab": {
          "base_uri": "https://localhost:8080/"
        }
      },
      "source": [
        "n = len(X) \n",
        "X.sort() \n",
        "  \n",
        "if n % 2 == 0: \n",
        "    median1 = X[n//2] \n",
        "    median2 = X[n//2 - 1] \n",
        "    median = (median1 + median2)/2\n",
        "else: \n",
        "    median = X[n//2] \n",
        "print(\"Median is: \" + str(median)) "
      ],
      "execution_count": 3,
      "outputs": [
        {
          "output_type": "stream",
          "text": [
            "Median is: 86\n"
          ],
          "name": "stdout"
        }
      ]
    },
    {
      "cell_type": "markdown",
      "metadata": {
        "id": "vXRb1rbevAw9"
      },
      "source": [
        "<b>Mode"
      ]
    },
    {
      "cell_type": "code",
      "metadata": {
        "id": "r4hcng_qvAw_",
        "outputId": "995dead5-74e2-4a24-e70b-b9a71a0162af",
        "colab": {
          "base_uri": "https://localhost:8080/"
        }
      },
      "source": [
        "from collections import Counter\n",
        "n = len(X) \n",
        "  \n",
        "data = Counter(X)\n",
        " \n",
        "mode = dict(data) \n",
        "mod = [k for k, v in mode.items() if v == max(list(data.values()))] \n",
        "  \n",
        "if len(mod) == n: \n",
        "    mode = \"No mode found\"\n",
        "else: \n",
        "    mode = \"Mode is / are: \" + ', '.join(map(str, mod)) \n",
        "      \n",
        "print(mode) "
      ],
      "execution_count": 6,
      "outputs": [
        {
          "output_type": "stream",
          "text": [
            "Mode is / are: 86\n"
          ],
          "name": "stdout"
        }
      ]
    },
    {
      "cell_type": "markdown",
      "metadata": {
        "id": "XgfGG6cKw2AE"
      },
      "source": [
        "#Computation of Mean, Median and Mode using Libraries"
      ]
    },
    {
      "cell_type": "markdown",
      "metadata": {
        "id": "zs38XE9kw6Kx"
      },
      "source": [
        "<b>Mean"
      ]
    },
    {
      "cell_type": "code",
      "metadata": {
        "id": "NtLf5KcOvAxC",
        "outputId": "879bcb3a-a7b6-4925-a6fc-400e02818a46",
        "colab": {
          "base_uri": "https://localhost:8080/"
        }
      },
      "source": [
        "import numpy as np\n",
        "print(np.mean(X))"
      ],
      "execution_count": 7,
      "outputs": [
        {
          "output_type": "stream",
          "text": [
            "84.41176470588235\n"
          ],
          "name": "stdout"
        }
      ]
    },
    {
      "cell_type": "markdown",
      "metadata": {
        "id": "GVWjLVfMxJr9"
      },
      "source": [
        "<b>Median"
      ]
    },
    {
      "cell_type": "code",
      "metadata": {
        "id": "XUSUN_54vAxF",
        "outputId": "45abb250-4bd8-4c2d-b93f-05944e85ac41",
        "colab": {
          "base_uri": "https://localhost:8080/"
        }
      },
      "source": [
        "print(np.median(X))"
      ],
      "execution_count": 8,
      "outputs": [
        {
          "output_type": "stream",
          "text": [
            "86.0\n"
          ],
          "name": "stdout"
        }
      ]
    },
    {
      "cell_type": "markdown",
      "metadata": {
        "id": "ShX_xGthxceD"
      },
      "source": [
        "<b>Mode"
      ]
    },
    {
      "cell_type": "code",
      "metadata": {
        "id": "C8zzb2VWxeiO",
        "outputId": "65ab522e-3082-44e3-d4a6-b768e3e2e1c7",
        "colab": {
          "base_uri": "https://localhost:8080/"
        }
      },
      "source": [
        "from scipy import stats\n",
        "print(stats.mode(X))"
      ],
      "execution_count": 9,
      "outputs": [
        {
          "output_type": "stream",
          "text": [
            "ModeResult(mode=array([86]), count=array([3]))\n"
          ],
          "name": "stdout"
        }
      ]
    },
    {
      "cell_type": "code",
      "metadata": {
        "id": "aeAH97skxkNm"
      },
      "source": [
        ""
      ],
      "execution_count": 10,
      "outputs": []
    },
    {
      "cell_type": "markdown",
      "metadata": {
        "id": "CGg13fIvx7iC"
      },
      "source": [
        "## Python code for calculating variance and standard deviation"
      ]
    },
    {
      "cell_type": "markdown",
      "metadata": {
        "id": "nd8hQjl30_25"
      },
      "source": [
        "### Without using Library"
      ]
    },
    {
      "cell_type": "code",
      "metadata": {
        "id": "KkzPG-zBxuX2",
        "outputId": "1f1f6b15-cd07-49dd-e4ae-8b8d8e3d3b32",
        "colab": {
          "base_uri": "https://localhost:8080/"
        }
      },
      "source": [
        "import math\n",
        "mean = sum(X) / len(X)   # mean\n",
        "var  = sum(pow(x-mean,2) for x in X) / len(X)  # variance\n",
        "std  = math.sqrt(var)  # standard deviation\n",
        "print(\"Variance is : \",var)\n",
        "print(\"Standard Deviation is : \",std)"
      ],
      "execution_count": 15,
      "outputs": [
        {
          "output_type": "stream",
          "text": [
            "Variance is :  203.41868512110727\n",
            "Standard Deviation is :  14.262492247889472\n"
          ],
          "name": "stdout"
        }
      ]
    },
    {
      "cell_type": "markdown",
      "metadata": {
        "id": "HGO7D1Ag1E6y"
      },
      "source": [
        "### Using Library"
      ]
    },
    {
      "cell_type": "code",
      "metadata": {
        "id": "dBn1zA6fz_Do",
        "outputId": "6c2a876f-c135-4ff7-90b6-10f848bb8546",
        "colab": {
          "base_uri": "https://localhost:8080/"
        }
      },
      "source": [
        "import statistics \n",
        "print(statistics.variance(X))\n",
        "print(statistics.stdev(X))"
      ],
      "execution_count": 18,
      "outputs": [
        {
          "output_type": "stream",
          "text": [
            "216.13235294117646\n",
            "14.701440505650337\n"
          ],
          "name": "stdout"
        }
      ]
    },
    {
      "cell_type": "code",
      "metadata": {
        "id": "zDT59fQP1IYG"
      },
      "source": [
        ""
      ],
      "execution_count": null,
      "outputs": []
    },
    {
      "cell_type": "markdown",
      "metadata": {
        "id": "osV69QhS1TC7"
      },
      "source": [
        "# Basic operations on various List,Dictionary,Tuple and String"
      ]
    },
    {
      "cell_type": "markdown",
      "metadata": {
        "id": "ypxoyXI92CfH"
      },
      "source": [
        "# Lists"
      ]
    },
    {
      "cell_type": "markdown",
      "metadata": {
        "id": "J-Ks7mW62H3k"
      },
      "source": [
        "<b>List Creation"
      ]
    },
    {
      "cell_type": "code",
      "metadata": {
        "id": "NwbhibmI1IbG",
        "outputId": "9c7e11d5-2e62-4ad8-c408-9d239e04672c",
        "colab": {
          "base_uri": "https://localhost:8080/"
        }
      },
      "source": [
        "emptyList = []\n",
        "\n",
        "lst = ['one', 'two', 'three', 'four'] # list of strings\n",
        "\n",
        "lst2 = [1, 2, 3, 4] #list of integers\n",
        "\n",
        "lst3 = [[1, 2], [3, 4]] # list of lists\n",
        "print(lst3)\n",
        "\n",
        "lst4 = [1, 'ramu', 24, 1.24] # list of different datatypes\n",
        "\n",
        "print(lst4)\n"
      ],
      "execution_count": 19,
      "outputs": [
        {
          "output_type": "stream",
          "text": [
            "[[1, 2], [3, 4]]\n",
            "[1, 'ramu', 24, 1.24]\n"
          ],
          "name": "stdout"
        }
      ]
    },
    {
      "cell_type": "markdown",
      "metadata": {
        "id": "IBF3SqEx2Os3"
      },
      "source": [
        "<b>List Length"
      ]
    },
    {
      "cell_type": "code",
      "metadata": {
        "id": "2Z0qz02I1Ief",
        "outputId": "30d6aca7-4bb6-4cbc-8ac4-9f4eab6ab3cd",
        "colab": {
          "base_uri": "https://localhost:8080/"
        }
      },
      "source": [
        "lst = ['one', 'two', 'three', 'four']\n",
        "\n",
        "#find length of a list\n",
        "print(len(lst))"
      ],
      "execution_count": 20,
      "outputs": [
        {
          "output_type": "stream",
          "text": [
            "4\n"
          ],
          "name": "stdout"
        }
      ]
    },
    {
      "cell_type": "markdown",
      "metadata": {
        "id": "Semmhgiw2VcN"
      },
      "source": [
        "<b>List Append"
      ]
    },
    {
      "cell_type": "code",
      "metadata": {
        "id": "yhXvQMJE1IhL",
        "outputId": "7d60c3b2-354f-4f02-9510-02af7baaaa4c",
        "colab": {
          "base_uri": "https://localhost:8080/"
        }
      },
      "source": [
        "lst = ['one', 'two', 'three', 'four']\n",
        "\n",
        "lst.append('five') # append will add the item at the end\n",
        "\n",
        "print(lst)"
      ],
      "execution_count": 21,
      "outputs": [
        {
          "output_type": "stream",
          "text": [
            "['one', 'two', 'three', 'four', 'five']\n"
          ],
          "name": "stdout"
        }
      ]
    },
    {
      "cell_type": "markdown",
      "metadata": {
        "id": "GM3Sy5RW2cJf"
      },
      "source": [
        "<b>List Insert"
      ]
    },
    {
      "cell_type": "code",
      "metadata": {
        "id": "C38If3UH1IkC",
        "outputId": "b9b8f1fa-82d2-4a4b-d6f7-f93239d41e1c",
        "colab": {
          "base_uri": "https://localhost:8080/"
        }
      },
      "source": [
        "#syntax: lst.insert(x, y) \n",
        "\n",
        "lst = ['one', 'two', 'four']\n",
        "\n",
        "lst.insert(2, \"three\") # will add element y at location x\n",
        "\n",
        "print(lst)\n"
      ],
      "execution_count": 22,
      "outputs": [
        {
          "output_type": "stream",
          "text": [
            "['one', 'two', 'three', 'four']\n"
          ],
          "name": "stdout"
        }
      ]
    },
    {
      "cell_type": "markdown",
      "metadata": {
        "id": "Ck87UG9I2mFH"
      },
      "source": [
        "<b>List Remove"
      ]
    },
    {
      "cell_type": "code",
      "metadata": {
        "id": "BDUrgrIU0YeF",
        "outputId": "34fb8eb0-019b-4758-b289-d8be2f26c5bd",
        "colab": {
          "base_uri": "https://localhost:8080/"
        }
      },
      "source": [
        "#syntax: lst.remove(x) \n",
        "\n",
        "lst = ['one', 'two', 'three', 'four', 'two']\n",
        "\n",
        "lst.remove('two') #it will remove first occurence of 'two' in a given list\n",
        "\n",
        "print(lst)"
      ],
      "execution_count": 23,
      "outputs": [
        {
          "output_type": "stream",
          "text": [
            "['one', 'three', 'four', 'two']\n"
          ],
          "name": "stdout"
        }
      ]
    },
    {
      "cell_type": "markdown",
      "metadata": {
        "id": "mNQk7cS82rvc"
      },
      "source": [
        "<b>List Append & Extend"
      ]
    },
    {
      "cell_type": "code",
      "metadata": {
        "id": "pBIerzHv2q9z",
        "outputId": "3f3fe7a2-596f-4b1d-94c0-d465e93bb223",
        "colab": {
          "base_uri": "https://localhost:8080/"
        }
      },
      "source": [
        "lst = ['one', 'two', 'three', 'four']\n",
        "\n",
        "lst2 = ['five', 'six']\n",
        "\n",
        "#append \n",
        "lst.append(lst2)\n",
        "\n",
        "print(lst)"
      ],
      "execution_count": 24,
      "outputs": [
        {
          "output_type": "stream",
          "text": [
            "['one', 'two', 'three', 'four', ['five', 'six']]\n"
          ],
          "name": "stdout"
        }
      ]
    },
    {
      "cell_type": "markdown",
      "metadata": {
        "id": "UTd1CTtY20Aw"
      },
      "source": [
        "<b>List Delete"
      ]
    },
    {
      "cell_type": "code",
      "metadata": {
        "id": "_haMfHuK2xZZ",
        "outputId": "025c44f0-35ee-4eb1-f993-e33a69c5bc5c",
        "colab": {
          "base_uri": "https://localhost:8080/"
        }
      },
      "source": [
        "#del to remove item based on index position\n",
        "\n",
        "lst = ['one', 'two', 'three', 'four', 'five']\n",
        "\n",
        "del lst[1]    #del doesn't return any value\n",
        "print(lst)\n",
        "\n",
        "#or we can use pop() method also to delete based on index position\n",
        "a = lst.pop(1)   #pop returns a value so we can display it\n",
        "print(a)\n",
        "\n",
        "print(lst)"
      ],
      "execution_count": 25,
      "outputs": [
        {
          "output_type": "stream",
          "text": [
            "['one', 'three', 'four', 'five']\n",
            "three\n",
            "['one', 'four', 'five']\n"
          ],
          "name": "stdout"
        }
      ]
    },
    {
      "cell_type": "markdown",
      "metadata": {
        "id": "Uq2Q7QO23E0M"
      },
      "source": [
        "#Tuples"
      ]
    },
    {
      "cell_type": "markdown",
      "metadata": {
        "id": "SFjSD4ob3Inh"
      },
      "source": [
        "<b>Tuple creation"
      ]
    },
    {
      "cell_type": "code",
      "metadata": {
        "id": "mX_896Sd3KvX",
        "outputId": "8c2960ef-5ac7-4864-bab0-105796b54c78",
        "colab": {
          "base_uri": "https://localhost:8080/"
        }
      },
      "source": [
        "#empty tuple\n",
        "t = ()\n",
        "\n",
        "#tuple having integers\n",
        "t = (1, 2, 3)\n",
        "print(t)\n",
        "\n",
        "#tuple with mixed datatypes\n",
        "t = (1, 'raju', 28, 'abc')\n",
        "print(t)\n",
        "\n",
        "#nested tuple\n",
        "t = (1, (2, 3, 4), [1, 'raju', 28, 'abc'])\n",
        "print(t)"
      ],
      "execution_count": 26,
      "outputs": [
        {
          "output_type": "stream",
          "text": [
            "(1, 2, 3)\n",
            "(1, 'raju', 28, 'abc')\n",
            "(1, (2, 3, 4), [1, 'raju', 28, 'abc'])\n"
          ],
          "name": "stdout"
        }
      ]
    },
    {
      "cell_type": "markdown",
      "metadata": {
        "id": "afFS8qNu3LNK"
      },
      "source": [
        "<b>Accessing Elements in Tuple"
      ]
    },
    {
      "cell_type": "code",
      "metadata": {
        "id": "AVaApZeW3Ljf",
        "outputId": "fad3cfd8-cd8c-4248-f395-dd32e0ae1129",
        "colab": {
          "base_uri": "https://localhost:8080/"
        }
      },
      "source": [
        "t = ('satish', 'murali', 'naveen', 'srinu', 'brahma')\n",
        "\n",
        "print(t[1])"
      ],
      "execution_count": 27,
      "outputs": [
        {
          "output_type": "stream",
          "text": [
            "murali\n"
          ],
          "name": "stdout"
        }
      ]
    },
    {
      "cell_type": "markdown",
      "metadata": {
        "id": "aLzCOJ4_3L0_"
      },
      "source": [
        "<b>Tuple Deletion"
      ]
    },
    {
      "cell_type": "code",
      "metadata": {
        "id": "UdXf7O353MJn"
      },
      "source": [
        "#we cannot change the elements in a tuple. \n",
        "# That also means we cannot delete or remove items from a tuple.\n",
        "\n",
        "#delete entire tuple using del keyword\n",
        "t = (1, 2, 3, 4, 5, 6)\n",
        "\n",
        "#delete entire tuple\n",
        "del t\n",
        "\n"
      ],
      "execution_count": 28,
      "outputs": []
    },
    {
      "cell_type": "markdown",
      "metadata": {
        "id": "nGziUZWp3MYf"
      },
      "source": [
        "<b>Tuple Count"
      ]
    },
    {
      "cell_type": "code",
      "metadata": {
        "id": "Hq0ne8VR3Mpq",
        "outputId": "feaed6f2-e616-4c40-8d54-ac5fd14500b7",
        "colab": {
          "base_uri": "https://localhost:8080/"
        }
      },
      "source": [
        "t = (1, 2, 3, 1, 3, 3, 4, 1)\n",
        "\n",
        "#get the frequency of particular element appears in a tuple\n",
        "t.count(1)"
      ],
      "execution_count": 29,
      "outputs": [
        {
          "output_type": "execute_result",
          "data": {
            "text/plain": [
              "3"
            ]
          },
          "metadata": {
            "tags": []
          },
          "execution_count": 29
        }
      ]
    },
    {
      "cell_type": "markdown",
      "metadata": {
        "id": "ghxQ77Av3M6A"
      },
      "source": [
        "<b>Tuple Index"
      ]
    },
    {
      "cell_type": "code",
      "metadata": {
        "id": "iRi4f7az22nq",
        "outputId": "b9ae1fd8-1a03-48c0-e270-3750900322f5",
        "colab": {
          "base_uri": "https://localhost:8080/"
        }
      },
      "source": [
        "t = (1, 2, 3, 1, 3, 3, 4, 1)\n",
        "\n",
        "print(t.index(3)) #return index of the first element is equal to 3\n",
        "\n",
        "#print index of the 1\n",
        "\n"
      ],
      "execution_count": 30,
      "outputs": [
        {
          "output_type": "stream",
          "text": [
            "2\n"
          ],
          "name": "stdout"
        }
      ]
    },
    {
      "cell_type": "markdown",
      "metadata": {
        "id": "3-n2BwDu30ij"
      },
      "source": [
        "# Dictionary"
      ]
    },
    {
      "cell_type": "markdown",
      "metadata": {
        "id": "3g1ZkOLn4Ag4"
      },
      "source": [
        "<b>Dict Creation"
      ]
    },
    {
      "cell_type": "code",
      "metadata": {
        "id": "Ld6dcgt94BAO",
        "outputId": "3481232d-f797-4154-b16b-b0a2ae01ff41",
        "colab": {
          "base_uri": "https://localhost:8080/"
        }
      },
      "source": [
        "#empty dictionary\n",
        "my_dict = {}\n",
        "\n",
        "#dictionary with integer keys\n",
        "my_dict = {1: 'abc', 2: 'xyz'}\n",
        "print(my_dict)\n",
        "\n",
        "#dictionary with mixed keys\n",
        "my_dict = {'name': 'satish', 1: ['abc', 'xyz']}\n",
        "print(my_dict)\n",
        "\n",
        "\n",
        "#create empty dictionary using dict()\n",
        "my_dict = dict()\n",
        "\n",
        "my_dict = dict([(1, 'abc'), (2, 'xyz')])    #create a dict with list of tuples\n",
        "print(my_dict)"
      ],
      "execution_count": 31,
      "outputs": [
        {
          "output_type": "stream",
          "text": [
            "{1: 'abc', 2: 'xyz'}\n",
            "{'name': 'satish', 1: ['abc', 'xyz']}\n",
            "{1: 'abc', 2: 'xyz'}\n"
          ],
          "name": "stdout"
        }
      ]
    },
    {
      "cell_type": "markdown",
      "metadata": {
        "id": "qbh4MtMZ4BO-"
      },
      "source": [
        "<b>Dict Access"
      ]
    },
    {
      "cell_type": "code",
      "metadata": {
        "id": "4Qi0lq8x4BcY",
        "outputId": "846acd3b-9150-47d4-f47f-45dbe794e375",
        "colab": {
          "base_uri": "https://localhost:8080/"
        }
      },
      "source": [
        "my_dict = {'name': 'satish', 'age': 27, 'address': 'guntur'}\n",
        "\n",
        "#get name\n",
        "print(my_dict['name'])"
      ],
      "execution_count": 32,
      "outputs": [
        {
          "output_type": "stream",
          "text": [
            "satish\n"
          ],
          "name": "stdout"
        }
      ]
    },
    {
      "cell_type": "markdown",
      "metadata": {
        "id": "uQhMk9pT4BqP"
      },
      "source": [
        "<b>Dict Add or Modify Elements"
      ]
    },
    {
      "cell_type": "code",
      "metadata": {
        "id": "6eyDoDEU4B3k",
        "outputId": "bc15d094-07bf-409e-a4cf-66195332c884",
        "colab": {
          "base_uri": "https://localhost:8080/"
        }
      },
      "source": [
        "my_dict = {'name': 'satish', 'age': 27, 'address': 'guntur'}\n",
        "\n",
        "#update name \n",
        "my_dict['name'] = 'raju'\n",
        "\n",
        "print(my_dict)"
      ],
      "execution_count": 33,
      "outputs": [
        {
          "output_type": "stream",
          "text": [
            "{'name': 'raju', 'age': 27, 'address': 'guntur'}\n"
          ],
          "name": "stdout"
        }
      ]
    },
    {
      "cell_type": "markdown",
      "metadata": {
        "id": "KYmqxihS4CjJ"
      },
      "source": [
        "<b>Dict Delete or Remove Element"
      ]
    },
    {
      "cell_type": "code",
      "metadata": {
        "id": "m965hQ4z4CxL",
        "outputId": "43e8219f-9f09-4604-f1ae-6255ffc1a4d9",
        "colab": {
          "base_uri": "https://localhost:8080/"
        }
      },
      "source": [
        "#create a dictionary\n",
        "my_dict = {'name': 'satish', 'age': 27, 'address': 'guntur'}\n",
        "\n",
        "#remove a particular item\n",
        "print(my_dict.pop('age'))\n",
        "\n",
        "print(my_dict)"
      ],
      "execution_count": 34,
      "outputs": [
        {
          "output_type": "stream",
          "text": [
            "27\n",
            "{'name': 'satish', 'address': 'guntur'}\n"
          ],
          "name": "stdout"
        }
      ]
    },
    {
      "cell_type": "markdown",
      "metadata": {
        "id": "wfUAvvZs4hhj"
      },
      "source": [
        "<b>Dict Comprehension"
      ]
    },
    {
      "cell_type": "code",
      "metadata": {
        "id": "C0O_S0B63tuh",
        "outputId": "14aab634-261c-4d74-9b25-4fafcda34eba",
        "colab": {
          "base_uri": "https://localhost:8080/"
        }
      },
      "source": [
        "#Dict comprehensions are just like list comprehensions but for dictionaries\n",
        "\n",
        "d = {'a': 1, 'b': 2, 'c': 3}\n",
        "for pair in d.items():\n",
        "    print(pair)"
      ],
      "execution_count": 35,
      "outputs": [
        {
          "output_type": "stream",
          "text": [
            "('a', 1)\n",
            "('b', 2)\n",
            "('c', 3)\n"
          ],
          "name": "stdout"
        }
      ]
    },
    {
      "cell_type": "code",
      "metadata": {
        "id": "BLaNUM2z4mf8"
      },
      "source": [
        ""
      ],
      "execution_count": null,
      "outputs": []
    },
    {
      "cell_type": "markdown",
      "metadata": {
        "id": "FaTJgDfd4tNn"
      },
      "source": [
        "#Strings"
      ]
    },
    {
      "cell_type": "markdown",
      "metadata": {
        "id": "RmxQVqIa5cQg"
      },
      "source": [
        "<b>How to create a string?"
      ]
    },
    {
      "cell_type": "code",
      "metadata": {
        "id": "Mh1Dpu-S5cfs",
        "outputId": "57835666-ddad-42b9-f107-b773ce36a451",
        "colab": {
          "base_uri": "https://localhost:8080/"
        }
      },
      "source": [
        "myString = 'Hello'\n",
        "\n",
        "print(myString)\n",
        "\n",
        "\n",
        "myString = \"Hello\"\n",
        "print(myString)\n",
        "\n",
        "\n",
        "myString = '''Hello'''\n",
        "print(myString)"
      ],
      "execution_count": 36,
      "outputs": [
        {
          "output_type": "stream",
          "text": [
            "Hello\n",
            "Hello\n",
            "Hello\n"
          ],
          "name": "stdout"
        }
      ]
    },
    {
      "cell_type": "markdown",
      "metadata": {
        "id": "o0ofzeYV5csG"
      },
      "source": [
        "<b>How to access characters in a string?"
      ]
    },
    {
      "cell_type": "code",
      "metadata": {
        "id": "SM83CLyp5c5N",
        "outputId": "8b2e07a4-5c2e-4819-8d17-642350ed1c75",
        "colab": {
          "base_uri": "https://localhost:8080/"
        }
      },
      "source": [
        "myString = \"Hello\"\n",
        "\n",
        "#print first Character\n",
        "print(myString[0])\n",
        "\n",
        "#print last character using negative indexing\n",
        "print(myString[-1])\n",
        "\n",
        "#slicing 2nd to 5th character\n",
        "print(myString[2:5])"
      ],
      "execution_count": 37,
      "outputs": [
        {
          "output_type": "stream",
          "text": [
            "H\n",
            "o\n",
            "llo\n"
          ],
          "name": "stdout"
        }
      ]
    },
    {
      "cell_type": "markdown",
      "metadata": {
        "id": "QTRhiexp5dGY"
      },
      "source": [
        "<b>How to delete a string ?"
      ]
    },
    {
      "cell_type": "code",
      "metadata": {
        "id": "SVzLlvYG5dUV"
      },
      "source": [
        "del myString # delete complete string"
      ],
      "execution_count": 38,
      "outputs": []
    },
    {
      "cell_type": "markdown",
      "metadata": {
        "id": "8YDNUt-L5dkT"
      },
      "source": [
        "<b>Concatenation"
      ]
    },
    {
      "cell_type": "code",
      "metadata": {
        "id": "pRSO83WF5dwi",
        "outputId": "b0d022bc-be7b-449a-c03a-40fdce847714",
        "colab": {
          "base_uri": "https://localhost:8080/"
        }
      },
      "source": [
        "s1 = \"Hello \"\n",
        "s2 = \"Satish\"\n",
        "\n",
        "#concatenation of 2 strings\n",
        "print(s1 + s2)\n",
        "\n",
        "#repeat string n times\n",
        "print(s1 * 3)"
      ],
      "execution_count": 39,
      "outputs": [
        {
          "output_type": "stream",
          "text": [
            "Hello Satish\n",
            "Hello Hello Hello \n"
          ],
          "name": "stdout"
        }
      ]
    },
    {
      "cell_type": "markdown",
      "metadata": {
        "id": "8BgK0RFJ59pS"
      },
      "source": [
        "<b>String Membership Test"
      ]
    },
    {
      "cell_type": "code",
      "metadata": {
        "id": "7WjuI2U44use",
        "outputId": "54308891-3736-435f-c987-06897b014aaa",
        "colab": {
          "base_uri": "https://localhost:8080/"
        }
      },
      "source": [
        "print('l' in 'Hello World') #in operator to test membership"
      ],
      "execution_count": 40,
      "outputs": [
        {
          "output_type": "stream",
          "text": [
            "True\n"
          ],
          "name": "stdout"
        }
      ]
    },
    {
      "cell_type": "code",
      "metadata": {
        "id": "PMyJOMVA6BKo",
        "outputId": "4b20fdb2-47fb-47ee-e845-16cdfa9e6ce6",
        "colab": {
          "base_uri": "https://localhost:8080/"
        }
      },
      "source": [
        "print(\"The Work is Done.\")"
      ],
      "execution_count": 42,
      "outputs": [
        {
          "output_type": "stream",
          "text": [
            "The Work is Done.\n"
          ],
          "name": "stdout"
        }
      ]
    },
    {
      "cell_type": "code",
      "metadata": {
        "id": "S27hlj3P6G55"
      },
      "source": [
        ""
      ],
      "execution_count": null,
      "outputs": []
    }
  ]
}
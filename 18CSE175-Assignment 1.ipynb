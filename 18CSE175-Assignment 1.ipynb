{
 "cells": [
  {
   "cell_type": "markdown",
   "metadata": {},
   "source": [
    "# Assignment 1"
   ]
  },
  {
   "cell_type": "markdown",
   "metadata": {},
   "source": [
    "### Python code to find Mean Median and Mode without using library functions."
   ]
  },
  {
   "cell_type": "code",
   "execution_count": 3,
   "metadata": {},
   "outputs": [
    {
     "name": "stdout",
     "output_type": "stream",
     "text": [
      "Enter data 2 1 3 5 4 6 9\n",
      "The mean of entered data is: 4.285714285714286\n",
      "The median of entered data is: \n",
      "4\n",
      "The mode of entered data is: \n",
      "1 2 3 4 5 6 9 \n",
      "The variance of entered data is:  6.204081632653062\n",
      "The standard deviation of entered data is:  2.4907993963089563\n"
     ]
    }
   ],
   "source": [
    "import math\n",
    "\n",
    "l=list(map(int,input(\"Enter data \").split()))\n",
    "print(\"The mean of entered data is:\",sum(l)/len(l))\n",
    "\n",
    "print(\"The median of entered data is: \")\n",
    "if len(l)%2!=0:\n",
    "    print(sorted(l)[len(l)//2])\n",
    "else:\n",
    "    print((sorted(l)[len(l)//2]+sorted(l)[len(l)//2-1])/2)\n",
    "    \n",
    "    \n",
    "print(\"The mode of entered data is: \")\n",
    "v=0\n",
    "for i in set(l):\n",
    "    if l.count(i)>v:\n",
    "        v=l.count(i)\n",
    "for i in set(l):\n",
    "    if l.count(i)==v:\n",
    "        print(i,end=\" \")\n",
    "print() \n",
    "\n",
    "variance=sum((i-sum(l)/len(l))**2 for i in l)/len(l)\n",
    "\n",
    "print(\"The variance of entered data is: \",variance)\n",
    "\n",
    "print(\"The standard deviation of entered data is: \",math.sqrt(variance))"
   ]
  },
  {
   "cell_type": "markdown",
   "metadata": {},
   "source": [
    "### Python code to find Mean Median and Mode without using library functions."
   ]
  },
  {
   "cell_type": "code",
   "execution_count": 4,
   "metadata": {},
   "outputs": [
    {
     "name": "stdout",
     "output_type": "stream",
     "text": [
      "Enter data: 2 3 4 5 6 9 8 7\n",
      "The mean of entered data is:  5.5\n",
      "The median of entered data is:  5.5\n",
      "The mode of entered data is:  2 3 4 5 6 9 8 7\n",
      "The variance of entered data is:  6.0\n",
      "The standard deviation of entered data is:  2.449489742783178\n"
     ]
    }
   ],
   "source": [
    "import math\n",
    "import statistics\n",
    "\n",
    "l=list(map(int,input(\"Enter data: \").split()))\n",
    "print(\"The mean of entered data is: \",statistics.mean(l))\n",
    "\n",
    "print(\"The median of entered data is: \",statistics.median(l))\n",
    "\n",
    "if len(l)==len(set(l)):\n",
    "    print(\"The mode of entered data is: \",*l)\n",
    "else:    \n",
    "    print(\"The mode of entered data is: \",statistics.mode(l))\n",
    "print(\"The variance of entered data is: \",statistics.variance(l))\n",
    "\n",
    "print(\"The standard deviation of entered data is: \",statistics.stdev(l))\n"
   ]
  },
  {
   "cell_type": "markdown",
   "metadata": {},
   "source": [
    "### Some problems related to List Tuple Dictionary and string"
   ]
  },
  {
   "cell_type": "markdown",
   "metadata": {},
   "source": [
    "## List"
   ]
  },
  {
   "cell_type": "code",
   "execution_count": 9,
   "metadata": {},
   "outputs": [
    {
     "name": "stdout",
     "output_type": "stream",
     "text": [
      "<class 'list'>\n",
      "[2, 4, 'sai', 'krishna', 'nice']\n"
     ]
    }
   ],
   "source": [
    "l=[2,4,\"sai\",\"krishna\"]\n",
    "print(type(l))\n",
    "l.append(\"nice\")\n",
    "print(l)"
   ]
  },
  {
   "cell_type": "markdown",
   "metadata": {},
   "source": [
    "## Tuple"
   ]
  },
  {
   "cell_type": "code",
   "execution_count": 10,
   "metadata": {},
   "outputs": [
    {
     "name": "stdout",
     "output_type": "stream",
     "text": [
      "<class 'tuple'>\n",
      "(2, 4, 5, 6, 8, 7, 2, 4, 5, 6, 8, 7, 2, 4, 5, 6, 8, 7)\n"
     ]
    }
   ],
   "source": [
    "t=(2,4,5,6,8,7)\n",
    "print(type(t))\n",
    "print(t*3)"
   ]
  },
  {
   "cell_type": "markdown",
   "metadata": {},
   "source": [
    "## Dictionary"
   ]
  },
  {
   "cell_type": "code",
   "execution_count": 16,
   "metadata": {},
   "outputs": [
    {
     "name": "stdout",
     "output_type": "stream",
     "text": [
      "{1: 'Sharique', 2: 'akhter', 'hi': 3, 'bye': 4}\n",
      "1 Sharique\n",
      "2 akhter\n",
      "hi 3\n",
      "bye 4\n"
     ]
    }
   ],
   "source": [
    "d={1:\"Sharique\",2:\"akhter\",\"hi\":3,\"bye\":4}\n",
    "print(d)\n",
    "for i in d:\n",
    "    print(i,d[i])"
   ]
  },
  {
   "cell_type": "markdown",
   "metadata": {},
   "source": [
    "## String"
   ]
  },
  {
   "cell_type": "code",
   "execution_count": 19,
   "metadata": {},
   "outputs": [
    {
     "name": "stdout",
     "output_type": "stream",
     "text": [
      "GIET University\n"
     ]
    }
   ],
   "source": [
    "s1=\"GIET\"\n",
    "s2=\" University\"\n",
    "print(s1 + s2)"
   ]
  },
  {
   "cell_type": "code",
   "execution_count": null,
   "metadata": {},
   "outputs": [],
   "source": []
  }
 ],
 "metadata": {
  "kernelspec": {
   "display_name": "Python 3",
   "language": "python",
   "name": "python3"
  },
  "language_info": {
   "codemirror_mode": {
    "name": "ipython",
    "version": 3
   },
   "file_extension": ".py",
   "mimetype": "text/x-python",
   "name": "python",
   "nbconvert_exporter": "python",
   "pygments_lexer": "ipython3",
   "version": "3.7.3"
  }
 },
 "nbformat": 4,
 "nbformat_minor": 2
}
